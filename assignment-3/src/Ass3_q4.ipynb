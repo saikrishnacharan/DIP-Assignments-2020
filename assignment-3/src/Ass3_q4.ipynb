{
 "cells": [
  {
   "cell_type": "code",
   "execution_count": 1,
   "metadata": {},
   "outputs": [],
   "source": [
    "import matplotlib.pyplot as plt\n",
    "import numpy as np\n",
    "import cv2 as cv\n",
    "import colorsys\n",
    "import random"
   ]
  },
  {
   "cell_type": "code",
   "execution_count": 10,
   "metadata": {},
   "outputs": [],
   "source": [
    "def erosion(image,diameter):\n",
    "    img=np.pad(image,((diameter//2,diameter//2),(diameter//2,diameter//2)),'constant')\n",
    "    out=np.zeros(image.shape)\n",
    "    for i in range(image.shape[0]):\n",
    "        for j in range(image.shape[1]):\n",
    "            out[i,j]=np.min(img[i:i+diameter,j:j+diameter])\n",
    "    return out\n",
    "\n",
    "def dialation(image,diameter):\n",
    "    img=np.pad(image,((diameter//2,diameter//2),(diameter//2,diameter//2)),'constant')\n",
    "    out=np.zeros(image.shape)\n",
    "    for i in range(image.shape[0]):\n",
    "        for j in range(image.shape[1]):\n",
    "            out[i,j]=np.max(img[i:i+diameter,j:j+diameter])\n",
    "    return out\n",
    "def TPA(image):\n",
    "    cluster=np.zeros(image.shape,dtype=np.int64)\n",
    "    count=0\n",
    " \n",
    "    for i in range(image.shape[0]):\n",
    "        for j in range(image.shape[1]):\n",
    "            if i==0:\n",
    "                if j==0 and image[i,j]==1:\n",
    "                    count=count+1\n",
    "                    cluster[i,j]=count   \n",
    "                else:\n",
    "                    if image[i,j]==1 and image[i,j-1]==1:\n",
    "                        cluster[i,j]=cluster[i,j-1]\n",
    "                    elif image[i,j]==1:\n",
    "                        count=count+1\n",
    "                        cluster[i,j]=count\n",
    "            else:\n",
    "                if j==0 and image[i,j]==1 and image[i,j-1]==1:\n",
    "                    cluster[i,j]=cluster[i-1,j]\n",
    "                elif j==0 and image[i,j]==1:\n",
    "                    count=count+1\n",
    "                    cluster[i,j]=count\n",
    "                elif image[i,j]==1 and image[i-1,j]==1 and image[i,j-1]==1:\n",
    "                    cluster[i,j]=min(cluster[i-1,j],cluster[i,j-1])\n",
    "                 \n",
    "                elif image[i,j]==1 and image[i-1,j]==1 and image[i,j-1]==0:\n",
    "                    cluster[i,j]=cluster[i-1,j]\n",
    "                elif image[i,j]==1 and image[i-1,j]==0 and image[i,j-1]==1:\n",
    "                    cluster[i,j]=cluster[i,j-1]\n",
    "                elif image[i,j]==1 and image[i-1,j]==0 and image[i,j-1]==0:\n",
    "                    count=count+1\n",
    "                    cluster[i,j]=count\n",
    "    \n",
    "    mapping=np.arange(count+1)\n",
    "    \n",
    "    for i in range(1,image.shape[0]):\n",
    "        for j in range(image.shape[1]):\n",
    "            if image[i,j]==1:\n",
    "                if j==0:\n",
    "                    if cluster[i-1,j]!=cluster[i,j] and image[i-1,j]==1 and image[i,j]==1:\n",
    "                        mapping[max(cluster[i,j],cluster[i-1,j])]=min(cluster[i,j],cluster[i-1,j])\n",
    "                else:\n",
    "                    if cluster[i-1,j]!=cluster[i,j] and image[i-1,j]==1 and image[i,j]==1:\n",
    "                        mapping[max(cluster[i,j],cluster[i-1,j])]=min(cluster[i,j],cluster[i-1,j])\n",
    "                    if cluster[i,j]!=cluster[i,j-1] and image[i,j-1]==1 and image[i,j]==1:\n",
    "                        mapping[max(cluster[i,j],cluster[i,j-1])]=min(cluster[i,j],cluster[i,j-1])\n",
    "\n",
    "    for i in range(count+1):\n",
    "        if i!=mapping[i]:\n",
    "            temp=i\n",
    "            val=mapping[i]\n",
    "            while temp!=val:\n",
    "                temp=val\n",
    "                val=mapping[temp]\n",
    "            mapping[i]=val\n",
    "    \n",
    "    result=cluster.copy()      \n",
    "    \n",
    "    for i in range(image.shape[0]):\n",
    "        for j in range(image.shape[1]):\n",
    "            result[i,j]=mapping[cluster[i,j]]\n",
    "    return [result,mapping]"
   ]
  },
  {
   "cell_type": "code",
   "execution_count": 24,
   "metadata": {},
   "outputs": [
    {
     "data": {
      "image/png": "[encoded data removed]",
      "text/plain": [
       "<Figure size 432x288 with 1 Axes>"
      ]
     },
     "metadata": {
      "needs_background": "light"
     },
     "output_type": "display_data"
    },
    {
     "name": "stdout",
     "output_type": "stream",
     "text": [
      "number of objects with one or more holes 6\n"
     ]
    },
    {
     "data": {
      "image/png": "[encoded data removed]",
      "text/plain": [
       "<Figure size 432x288 with 1 Axes>"
      ]
     },
     "metadata": {
      "needs_background": "light"
     },
     "output_type": "display_data"
    }
   ],
   "source": [
    "image=cv.imread('../images/objects.png',0)\n",
    "(T,binary_image)=cv.threshold(image,128,255,cv.THRESH_BINARY)\n",
    "\n",
    "\n",
    "plt.imshow(binary_image,cmap='gray')\n",
    "plt.show()\n",
    "\n",
    "binary_image=binary_image//255\n",
    "\n",
    "#Performing Closing Operation\n",
    "n_binary_image=erosion(dialation(binary_image,4),4)\n",
    "\n",
    "[twopass_image,clustermap]=TPA(binary_image)\n",
    "[n_twopass_image,clustermap]=TPA(n_binary_image)\n",
    "\n",
    "\n",
    "im_unique,im_count=np.unique(twopass_image,return_counts=True)\n",
    "n_im_unique,n_im_count=np.unique(n_twopass_image,return_counts=True)\n",
    "\n",
    "object_count=0\n",
    "hole_obj = np.zeros(image.shape)\n",
    "for i in range(im_unique.size):\n",
    "    if im_count[i]!=n_im_count[i]:\n",
    "        object_count+=1\n",
    "        if(i!=0):\n",
    "            hole_obj[twopass_image==unique[i]]=1\n",
    "print(\"number of objects with one or more holes\",object_count-1) \n",
    "plt.imshow(hole_obj,cmap=\"gray\")\n",
    "plt.show()\n",
    "# '-1' for as background was given cluster 0 do not include it"
   ]
  },
  {
   "cell_type": "code",
   "execution_count": 26,
   "metadata": {},
   "outputs": [
    {
     "data": {
      "image/png": "[encoded data removed]",
      "text/plain": [
       "<Figure size 432x288 with 1 Axes>"
      ]
     },
     "metadata": {
      "needs_background": "light"
     },
     "output_type": "display_data"
    },
    {
     "name": "stdout",
     "output_type": "stream",
     "text": [
      "number of square objects 3\n"
     ]
    },
    {
     "data": {
      "image/png": "[encoded data removed]",
      "text/plain": [
       "<Figure size 432x288 with 1 Axes>"
      ]
     },
     "metadata": {
      "needs_background": "light"
     },
     "output_type": "display_data"
    }
   ],
   "source": [
    "image=cv.imread('../images/objects.png',0)\n",
    "(T,binary_image)=cv.threshold(image,128,255,cv.THRESH_BINARY)\n",
    "\n",
    "plt.imshow(binary_image,cmap='gray')\n",
    "plt.show()\n",
    "\n",
    "binary_image=binary_image//255\n",
    "[twopass_image,clustermap]=TPA(binary_image)\n",
    "\n",
    "unique,count=np.unique(twopass_image,return_counts=True)\n",
    "square_obj = np.zeros(image.shape)\n",
    "rectangle_count=0\n",
    "for i in range(unique.size):\n",
    "    if unique[i]!=0:\n",
    "        crdn=np.where(twopass_image==unique[i])\n",
    "        rmin=np.min(crdn[0])\n",
    "        rmax=np.max(crdn[0])\n",
    "        cmin=np.min(crdn[1])\n",
    "        cmax=np.max(crdn[1])\n",
    "        \n",
    "        if twopass_image[rmin,cmin]==unique[i]: #Implies a square\n",
    "#             print(rmax-rmin,cmax-cmin)\n",
    "            if rmax-rmin==cmax-cmin: \n",
    "                rectangle_count+=1\n",
    "                square_obj[twopass_image==unique[i]]=1\n",
    "\n",
    "print(\"number of square objects\",rectangle_count)\n",
    "plt.imshow(square_obj,cmap=\"gray\")\n",
    "plt.show()\n",
    "        "
   ]
  },
  {
   "cell_type": "code",
   "execution_count": 28,
   "metadata": {},
   "outputs": [
    {
     "data": {
      "image/png": "[encoded data removed]",
      "text/plain": [
       "<Figure size 432x288 with 1 Axes>"
      ]
     },
     "metadata": {
      "needs_background": "light"
     },
     "output_type": "display_data"
    },
    {
     "data": {
      "text/plain": [
       "<matplotlib.image.AxesImage at 0x2c971c89390>"
      ]
     },
     "execution_count": 28,
     "metadata": {},
     "output_type": "execute_result"
    },
    {
     "data": {
      "image/png": "[encoded data removed]",
      "text/plain": [
       "<Figure size 432x288 with 1 Axes>"
      ]
     },
     "metadata": {
      "needs_background": "light"
     },
     "output_type": "display_data"
    }
   ],
   "source": [
    "image=cv.imread('../images/objects.png',0)\n",
    "(T,binary_image)=cv.threshold(image,128,255,cv.THRESH_BINARY)\n",
    "plt.imshow(binary_image,cmap='gray')\n",
    "plt.show()\n",
    "\n",
    "binary_image=binary_image//255\n",
    "n_binary_image=erosion(dialation(binary_image,4),4)\n",
    "\n",
    "\n",
    "[twopass_image,clustermap]=TPA(binary_image)\n",
    "[n_twopass_image,clustermap]=TPA(n_binary_image)\n",
    "\n",
    "im_unique,im_count=np.unique(twopass_image,return_counts=True)\n",
    "n_im_unique,n_im_count=np.unique(n_twopass_image,return_counts=True)\n",
    "\n",
    "rect_holes=np.zeros(twopass_image.shape)\n",
    "\n",
    "for i in range(im_unique.size):\n",
    "    if im_unique[i]!=0:\n",
    "        crdn=np.where(twopass_image==im_unique[i])\n",
    "        rmin=np.min(crdn[0])\n",
    "        rmax=np.max(crdn[0])\n",
    "        cmin=np.min(crdn[1])\n",
    "        cmax=np.max(crdn[1])\n",
    "        \n",
    "        if twopass_image[rmin,cmin]==im_unique[i]: #Implies a square \n",
    "#             print(rmax-rmin,cmax-cmin)\n",
    "            if rmax-rmin==cmax-cmin: \n",
    "                if im_count[i]!=n_im_count[i]:\n",
    "                    rect_holes[twopass_image==im_unique[i]]=1\n",
    "\n",
    "plt.imshow(rect_holes,cmap='gray')"
   ]
  },
  {
   "cell_type": "code",
   "execution_count": 15,
   "metadata": {},
   "outputs": [
    {
     "data": {
      "image/png": "[encoded data removed]",
      "text/plain": [
       "<Figure size 432x288 with 1 Axes>"
      ]
     },
     "metadata": {
      "needs_background": "light"
     },
     "output_type": "display_data"
    },
    {
     "data": {
      "text/plain": [
       "<matplotlib.image.AxesImage at 0x2c9709cc7f0>"
      ]
     },
     "execution_count": 15,
     "metadata": {},
     "output_type": "execute_result"
    },
    {
     "data": {
      "image/png": "[encoded data removed]",
      "text/plain": [
       "<Figure size 432x288 with 1 Axes>"
      ]
     },
     "metadata": {
      "needs_background": "light"
     },
     "output_type": "display_data"
    }
   ],
   "source": [
    "image=cv.imread('../images/objects.png',0)\n",
    "(T,binary_image)=cv.threshold(image,128,255,cv.THRESH_BINARY)\n",
    "plt.title(\"original binary image\")\n",
    "plt.imshow(binary_image,cmap='gray')\n",
    "plt.show()\n",
    "\n",
    "binary_image=binary_image//255\n",
    "n_binary_image=erosion(dialation(binary_image,4),4)\n",
    "\n",
    "\n",
    "[twopass_image,clustermap]=TPA(binary_image)\n",
    "[n_twopass_image,clustermap]=TPA(n_binary_image)\n",
    "\n",
    "im_unique,im_count=np.unique(twopass_image,return_counts=True)\n",
    "n_im_unique,n_im_count=np.unique(n_twopass_image,return_counts=True)\n",
    "\n",
    "circles=np.zeros(twopass_image.shape)\n",
    "\n",
    "for i in range(im_unique.size):\n",
    "    if im_unique[i]!=0:\n",
    "        crdn=np.where(twopass_image==im_unique[i])\n",
    "        rmin=np.min(crdn[0])\n",
    "        rmax=np.max(crdn[0])\n",
    "        cmin=np.min(crdn[1])\n",
    "        cmax=np.max(crdn[1])\n",
    "        \n",
    "        if twopass_image[rmin,cmin]!=im_unique[i]: #Implies a circle \n",
    "            if im_count[i]==n_im_count[i]:\n",
    "                circles[twopass_image==im_unique[i]]=1\n",
    "plt.title(\"circles with no holes\")\n",
    "plt.imshow(circles,cmap='gray')"
   ]
  }
 ],
 "metadata": {
  "kernelspec": {
   "display_name": "Python 3",
   "language": "python",
   "name": "python3"
  },
  "language_info": {
   "codemirror_mode": {
    "name": "ipython",
    "version": 3
   },
   "file_extension": ".py",
   "mimetype": "text/x-python",
   "name": "python",
   "nbconvert_exporter": "python",
   "pygments_lexer": "ipython3",
   "version": "3.6.5"
  }
 },
 "nbformat": 4,
 "nbformat_minor": 4
}
