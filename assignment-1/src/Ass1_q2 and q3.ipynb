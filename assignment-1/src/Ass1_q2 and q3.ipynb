{
 "cells": [
  {
   "cell_type": "markdown",
   "metadata": {},
   "source": [
    "## Question 2"
   ]
  },
  {
   "cell_type": "markdown",
   "metadata": {},
   "source": [
    "Given :Image occupies a size of 168.75 MB = 168.75 * 10<sup>6</sup> bytes\n",
    "<br>\n",
    "<br> Given: Image is a square color Image. Hence the dimensions of it will be $x * x * 3  $ pixels (3 because of RGB channels)\n",
    "<br>\n",
    "<br> As each pixel corresponds to 1 byte (Taking 8 bit for value of Intensity),\n",
    "<br>\n",
    "<br> The corresponding equaution will be $x^{2} * 3 = 168.75 * 10^{6}$ \n",
    "<br>\n",
    "<br> Here $x$ will be $\\sqrt{\\frac{168.75 * 10^{6}}{3}}$ = 7500  \n",
    "<br>\n",
    "</br> Hence the dimension of image will be 7500 * 7500 * 3"
   ]
  },
  {
   "cell_type": "markdown",
   "metadata": {},
   "source": [
    "## Question 3"
   ]
  },
  {
   "cell_type": "markdown",
   "metadata": {},
   "source": [
    "object height = 50 pixels (Required atleast to be readable)\n",
    "$$\n",
    "sensor \\ height\\ : 10 \\ mm  \\\\\n",
    "sensor \\ height\\ : 1024 \\ pixels \\\\\n",
    "Focal \\ length \\ of \\ the \\ sensor : 32.5 \\ mm \\\\\n",
    "object \\ height\\ : 50 \\ pixels  \\\\\n",
    "Real \\ object \\ height\\ :328 \\ mm \\\\\n",
    "Object \\ height \\ on \\ sensor\\ (mm) = \\dfrac{Sensor\\ height\\ (mm) × Object\\ height\\ (pixels)}{Sensor\\ height\\ (pixels)} \\\\\n",
    "Distance\\ to\\ Object\\ (mm) =  \\dfrac{Real\\ Object\\ height\\ (mm)  × Focal\\ Length\\ (mm)}{ Object\\ height\\ on\\ sensor\\ (mm)}\\\\\n",
    "Object \\ height \\ on \\ sensor\\ (mm) = \\dfrac{10\\ (mm) × 50\\ (pixels)}{1024\\ (pixels)} = 0.48828125\\ mm\\\\ \n",
    "Distance\\ to\\ Object\\ (mm) =  \\dfrac{328\\ (mm)  × 62.5\\ (mm)}{  0.48828125\\ (mm) } = 41984\\ mm = 41.984\\ m\\\\\n",
    "$$"
   ]
  }
 ],
 "metadata": {
  "kernelspec": {
   "display_name": "Python 3",
   "language": "python",
   "name": "python3"
  },
  "language_info": {
   "codemirror_mode": {
    "name": "ipython",
    "version": 3
   },
   "file_extension": ".py",
   "mimetype": "text/x-python",
   "name": "python",
   "nbconvert_exporter": "python",
   "pygments_lexer": "ipython3",
   "version": "3.6.5"
  }
 },
 "nbformat": 4,
 "nbformat_minor": 4
}
